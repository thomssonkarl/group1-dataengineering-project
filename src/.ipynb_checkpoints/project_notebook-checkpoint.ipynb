{
 "cells": [
  {
   "cell_type": "code",
   "execution_count": 6,
   "id": "ec0e19c6",
   "metadata": {},
   "outputs": [
    {
     "ename": "IndentationError",
     "evalue": "unexpected indent (704541892.py, line 9)",
     "output_type": "error",
     "traceback": [
      "\u001b[0;36m  Cell \u001b[0;32mIn[6], line 9\u001b[0;36m\u001b[0m\n\u001b[0;31m    .getOrCreate()\u001b[0m\n\u001b[0m    ^\u001b[0m\n\u001b[0;31mIndentationError\u001b[0m\u001b[0;31m:\u001b[0m unexpected indent\n"
     ]
    }
   ],
   "source": [
    "import h5py\n",
    "from pyspark.sql import SparkSession\n",
    "spark_session = SparkSession.builder\\\n",
    "                .master(\"spark://192.168.2.34:7077\")\\\n",
    "                .appName(\"Song Analysis\")\\\n",
    "                .config(\"spark.hadoop.fs.defaultFS\", \"hdfs://192.168.2.34:9000\") \\\n",
    "                .config(\"spark.hadoop.dfs.replication\", \"1\") \\\n",
    "                .config(\"spark.cores.max\", 2)\n",
    "                .getOrCreate()\n"
   ]
  },
  {
   "cell_type": "code",
   "execution_count": 4,
   "id": "e33836d8",
   "metadata": {},
   "outputs": [
    {
     "name": "stderr",
     "output_type": "stream",
     "text": [
      "                                                                                \r"
     ]
    }
   ],
   "source": [
    "from pyspark.sql.functions import sum\n",
    "\n",
    "path = \"hdfs://192.168.2.34:9000/user/ubuntu/MillionSongSubsetCSV.csv\"\n",
    "\n",
    "df = spark_session.read.csv(path, header=True, inferSchema=True)\n",
    "\n",
    "amount_rows = df.count()\n",
    "\n",
    "sum_duration = df.select(sum(df.Duration)).collect()[0][0]\n",
    "\n",
    "avg = sum_duration / amount_rows\n",
    "\n",
    "\n"
   ]
  },
  {
   "cell_type": "code",
   "execution_count": 5,
   "id": "ac877594",
   "metadata": {},
   "outputs": [],
   "source": [
    "spark_session.stop()"
   ]
  },
  {
   "cell_type": "code",
   "execution_count": null,
   "id": "0607ae50",
   "metadata": {},
   "outputs": [],
   "source": []
  },
  {
   "cell_type": "code",
   "execution_count": null,
   "id": "a6f4ae45",
   "metadata": {},
   "outputs": [],
   "source": []
  },
  {
   "cell_type": "code",
   "execution_count": null,
   "id": "c88bbccc",
   "metadata": {},
   "outputs": [],
   "source": []
  }
 ],
 "metadata": {
  "kernelspec": {
   "display_name": "Python 3 (ipykernel)",
   "language": "python",
   "name": "python3"
  },
  "language_info": {
   "codemirror_mode": {
    "name": "ipython",
    "version": 3
   },
   "file_extension": ".py",
   "mimetype": "text/x-python",
   "name": "python",
   "nbconvert_exporter": "python",
   "pygments_lexer": "ipython3",
   "version": "3.10.6"
  }
 },
 "nbformat": 4,
 "nbformat_minor": 5
}
