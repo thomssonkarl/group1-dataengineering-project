{
 "cells": [
  {
   "cell_type": "code",
   "execution_count": 7,
   "id": "ec0e19c6",
   "metadata": {},
   "outputs": [],
   "source": [
    "import h5py\n",
    "from pyspark.sql import SparkSession\n",
    "spark_session = SparkSession.builder\\\n",
    "                .master(\"spark://192.168.2.34:7077\")\\\n",
    "                .appName(\"Song Analysis\")\\\n",
    "                .config(\"spark.hadoop.fs.defaultFS\", \"hdfs://192.168.2.34:9000\") \\\n",
    "                .config(\"spark.hadoop.dfs.replication\", \"1\") \\\n",
    "                .config(\"spark.cores.max\", 2)\\\n",
    "                .getOrCreate()\n"
   ]
  },
  {
   "cell_type": "code",
   "execution_count": 8,
   "id": "e33836d8",
   "metadata": {},
   "outputs": [
    {
     "name": "stderr",
     "output_type": "stream",
     "text": [
      "                                                                                \r"
     ]
    }
   ],
   "source": [
    "from pyspark.sql.functions import sum\n",
    "\n",
    "path = \"hdfs://192.168.2.34:9000/user/ubuntu/MillionSongSubsetCSV.csv\"\n",
    "\n",
    "df = spark_session.read.csv(path, header=True, inferSchema=True)"
   ]
  },
  {
   "cell_type": "code",
   "execution_count": 5,
   "id": "ac877594",
   "metadata": {},
   "outputs": [],
   "source": [
    "# Compute average duration of all songs from all artists\n"
   ]
  },
  {
   "cell_type": "code",
   "execution_count": null,
   "id": "0607ae50",
   "metadata": {},
   "outputs": [],
   "source": [
    "# Compute which artists are closest to the average length of a song\n",
    "\n",
    "amount_rows = df.count()\n",
    "\n",
    "sum_duration = df.select(sum(df.Duration)).collect()[0][0]\n",
    "\n",
    "total_avg = sum_duration / amount_rows\n",
    "\n",
    "\n",
    "\n"
   ]
  },
  {
   "cell_type": "code",
   "execution_count": null,
   "id": "a6f4ae45",
   "metadata": {},
   "outputs": [],
   "source": []
  },
  {
   "cell_type": "code",
   "execution_count": 9,
   "id": "c88bbccc",
   "metadata": {},
   "outputs": [],
   "source": [
    "spark_session.stop()"
   ]
  },
  {
   "cell_type": "code",
   "execution_count": null,
   "id": "f799c9e9",
   "metadata": {},
   "outputs": [],
   "source": []
  }
 ],
 "metadata": {
  "kernelspec": {
   "display_name": "Python 3 (ipykernel)",
   "language": "python",
   "name": "python3"
  },
  "language_info": {
   "codemirror_mode": {
    "name": "ipython",
    "version": 3
   },
   "file_extension": ".py",
   "mimetype": "text/x-python",
   "name": "python",
   "nbconvert_exporter": "python",
   "pygments_lexer": "ipython3",
   "version": "3.10.6"
  }
 },
 "nbformat": 4,
 "nbformat_minor": 5
}
