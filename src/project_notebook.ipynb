{
 "cells": [
  {
   "cell_type": "code",
   "execution_count": null,
   "id": "ec0e19c6",
   "metadata": {},
   "outputs": [],
   "source": [
    "import h5py\n",
    "from pyspark.sql import SparkSession\n",
    "spark_session = SparkSession.builder\\\n",
    "                .master(\"spark://192.168.2.34:7077\")\\\n",
    "                .appName(\"Song Analysis\")\\\n",
    "                .config(\"spark.hadoop.fs.defaultFS\", \"hdfs://192.168.2.34:9000\") \\\n",
    "                .config(\"spark.hadoop.dfs.replication\", \"1\") \\\n",
    "                .getOrCreate()\n"
   ]
  },
  {
   "cell_type": "code",
   "execution_count": null,
   "id": "e33836d8",
   "metadata": {},
   "outputs": [],
   "source": [
    "path = \"hdfs://192.168.2.34:9000/user/ubuntu/millionsongs/MillionSongSubset/A/A/A/TRAAAAW128F429D538.h5\"\n",
    "with h5py.File(path, \"r\") as hf:\n",
    "    # Read the data from the relevant groups\n",
    "    duration = hf[\"/analysis/songs\"][0][\"duration\"][()]\n",
    "    genre = hf[\"/metadata/songs\"][0][\"genre\"][()].decode(\"utf-8\")\n",
    "    artist_name = hf[\"/metadata/songs\"][0][\"artist_name\"][()].decode(\"utf-8\")\n",
    "    title = hf[\"/metadata/songs\"][0][\"title\"][()].decode(\"utf-8\")\n",
    "\n",
    "# Print the data\n",
    "print(\"Duration:\", duration)\n",
    "print(\"Genre:\", genre)\n",
    "print(\"Artist:\", artist_name)\n",
    "print(\"Title:\", title)"
   ]
  },
  {
   "cell_type": "code",
   "execution_count": null,
   "id": "72a592e7",
   "metadata": {},
   "outputs": [],
   "source": [
    "def read_h5_file(file_path):\n",
    "    with h5py.File(file_path, \"r\") as hf:\n",
    "        # Extract the data from the HDF5 file\n",
    "        duration = hf[\"/duration\"][()]\n",
    "        genre = hf[\"/genre\"][()].decode(\"utf-8\")\n",
    "        artist_name = hf[\"/artist_name\"][()].decode(\"utf-8\")\n",
    "        title = hf[\"/title\"][()].decode(\"utf-8\")\n",
    "    \n",
    "    # Convert the data to a DataFrame\n",
    "    data = [(duration, genre, artist_name, title)]\n",
    "    return spark_session.createDataFrame(data, schema=[\"duration\", \"genre\", \"artist_name\", \"title\"])"
   ]
  },
  {
   "cell_type": "code",
   "execution_count": 10,
   "id": "a6f4ae45",
   "metadata": {},
   "outputs": [],
   "source": [
    "spark_session.stop()"
   ]
  },
  {
   "cell_type": "code",
   "execution_count": null,
   "id": "47e83061",
   "metadata": {},
   "outputs": [],
   "source": []
  }
 ],
 "metadata": {
  "kernelspec": {
   "display_name": "Python 3 (ipykernel)",
   "language": "python",
   "name": "python3"
  },
  "language_info": {
   "codemirror_mode": {
    "name": "ipython",
    "version": 3
   },
   "file_extension": ".py",
   "mimetype": "text/x-python",
   "name": "python",
   "nbconvert_exporter": "python",
   "pygments_lexer": "ipython3",
   "version": "3.10.6"
  }
 },
 "nbformat": 4,
 "nbformat_minor": 5
}
