{
 "cells": [
  {
   "cell_type": "code",
   "execution_count": 2,
   "id": "fe0236a2",
   "metadata": {},
   "outputs": [
    {
     "name": "stdout",
     "output_type": "stream",
     "text": [
      "Finished!\n"
     ]
    }
   ],
   "source": [
    "import os\n",
    "import glob\n",
    "import h5py\n",
    "import numpy as np\n",
    "import csv\n",
    "\n",
    "dataset_dir = \"../../MillionSongSubset\"\n",
    "csv_path = \"../../MillionSongSubsetCSV.csv\"\n",
    "\n",
    "# Define the relevant data columns\n",
    "data_columns = ['ID', 'Duration', 'Mode']\n",
    "\n",
    "# Open the CSV file for writing\n",
    "with open(csv_path, 'w', newline='') as csvfile:\n",
    "    # Create a CSV writer object\n",
    "    writer = csv.writer(csvfile, delimiter=',')\n",
    "    \n",
    "    # Write the header row with the column names\n",
    "    writer.writerow(data_columns)\n",
    "    \n",
    "    # Loop over all subdirectories in the first level\n",
    "    for sub_dir_1 in sorted(os.listdir(dataset_dir)):\n",
    "        # Ignore any non-directory entries\n",
    "        if not os.path.isdir(os.path.join(dataset_dir, sub_dir_1)):\n",
    "            continue\n",
    "            \n",
    "        # Loop over all subdirectories in the second level\n",
    "        for sub_dir_2 in sorted(os.listdir(os.path.join(dataset_dir, sub_dir_1))):\n",
    "            if not os.path.isdir(os.path.join(dataset_dir, sub_dir_1, sub_dir_2)):\n",
    "                continue\n",
    "                \n",
    "            # Loop over all subdirectories in the third level\n",
    "            for sub_dir_3 in sorted(os.listdir(os.path.join(dataset_dir, sub_dir_1, sub_dir_2))):\n",
    "                if not os.path.isdir(os.path.join(dataset_dir, sub_dir_1, sub_dir_2, sub_dir_3)):\n",
    "                    continue\n",
    "                    \n",
    "                # Use glob to find all the .h5 files in the fourth level\n",
    "                h5_files = glob.glob(os.path.join(dataset_dir, sub_dir_1, sub_dir_2, sub_dir_3, \"*.h5\"))\n",
    "                \n",
    "                # Loop over each .h5 file and write the data to the CSV file\n",
    "                for h5_file in h5_files:\n",
    "                    # Open the .h5 file\n",
    "                    with h5py.File(h5_file, 'r') as f:\n",
    "                        # Get the relevant data\n",
    "                        song_id = f['metadata']['songs'][0]['song_id'].decode('utf-8')\n",
    "                        duration = f['analysis']['songs'][0]['duration']\n",
    "                        mode = f['analysis']['songs'][0]['mode']\n",
    "                        \n",
    "                        # Write the data to the CSV file\n",
    "                        writer.writerow([song_id, duration, mode])\n",
    "\n",
    "print(\"Finished!\")"
   ]
  },
  {
   "cell_type": "code",
   "execution_count": null,
   "id": "64bcf8a0",
   "metadata": {},
   "outputs": [],
   "source": [
    "            "
   ]
  },
  {
   "cell_type": "code",
   "execution_count": null,
   "id": "fb1c18cb",
   "metadata": {},
   "outputs": [],
   "source": []
  }
 ],
 "metadata": {
  "kernelspec": {
   "display_name": "Python 3 (ipykernel)",
   "language": "python",
   "name": "python3"
  },
  "language_info": {
   "codemirror_mode": {
    "name": "ipython",
    "version": 3
   },
   "file_extension": ".py",
   "mimetype": "text/x-python",
   "name": "python",
   "nbconvert_exporter": "python",
   "pygments_lexer": "ipython3",
   "version": "3.10.6"
  }
 },
 "nbformat": 4,
 "nbformat_minor": 5
}
