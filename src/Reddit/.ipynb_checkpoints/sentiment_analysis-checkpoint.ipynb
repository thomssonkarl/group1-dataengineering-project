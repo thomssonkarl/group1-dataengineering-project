{
 "cells": [
  {
   "cell_type": "code",
   "execution_count": null,
   "id": "c6ef52a8",
   "metadata": {},
   "outputs": [],
   "source": [
    "from pyspark.sql import SparkSession\n",
    "spark_session = SparkSession.builder\\\n",
    "                .master(\"spark://192.168.2.5:7077\")\\\n",
    "                .appName(\"Sentiment Analysis\")\\\n",
    "                .config(\"spark.hadoop.fs.defaultFS\", \"hdfs://192.168.2.5:9000\") \\\n",
    "                .config(\"spark.hadoop.dfs.replication\", \"1\") \\\n",
    "                .config(\"spark.cores.max\", 2)\\\n",
    "                .getOrCreate()"
   ]
  },
  {
   "cell_type": "code",
   "execution_count": null,
   "id": "31181e7a",
   "metadata": {},
   "outputs": [],
   "source": [
    "from pyspark.sql.functions import udf\n",
    "from pyspark.sql.types import StringType\n",
    "from textblob import TextBlob\n",
    "\n",
    "# Define a user-defined function to perform sentiment analysis on a text\n",
    "def get_sentiment(text):\n",
    "    blob = TextBlob(text)\n",
    "    sentiment = blob.sentiment.polarity\n",
    "    if sentiment > 0:\n",
    "        return 'positive'\n",
    "    elif sentiment < 0:\n",
    "        return 'negative'\n",
    "    else:\n",
    "        return 'neutral'\n",
    "\n",
    "# Register the UDF with PySpark\n",
    "get_sentiment_udf = udf(get_sentiment, StringType())\n",
    "\n",
    "# Load the Reddit comments dataset into a PySpark DataFrame\n",
    "df = spark.read.json(\"\")\n",
    "\n",
    "# Add a new column to the DataFrame with the sentiment of each comment\n",
    "df = df.withColumn(\"sentiment\", get_sentiment_udf(\"body\"))\n",
    "\n",
    "# Group the comments by subreddit and sentiment, and count the number of comments\n",
    "result = df.groupBy(\"subreddit\", \"sentiment\").count()\n",
    "\n",
    "# Show the top 10 subreddits by number of positive comments\n",
    "result.filter(result.sentiment == \"positive\").orderBy(result[\"count\"].desc()).show(10)"
   ]
  }
 ],
 "metadata": {
  "kernelspec": {
   "display_name": "Python 3 (ipykernel)",
   "language": "python",
   "name": "python3"
  },
  "language_info": {
   "codemirror_mode": {
    "name": "ipython",
    "version": 3
   },
   "file_extension": ".py",
   "mimetype": "text/x-python",
   "name": "python",
   "nbconvert_exporter": "python",
   "pygments_lexer": "ipython3",
   "version": "3.10.6"
  }
 },
 "nbformat": 4,
 "nbformat_minor": 5
}
