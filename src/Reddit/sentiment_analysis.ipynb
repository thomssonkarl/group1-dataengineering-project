{
 "cells": [
  {
   "cell_type": "code",
   "execution_count": 1,
   "id": "fd8faf92",
   "metadata": {
    "scrolled": true
   },
   "outputs": [
    {
     "name": "stderr",
     "output_type": "stream",
     "text": [
      "Setting default log level to \"WARN\".\n",
      "To adjust logging level use sc.setLogLevel(newLevel). For SparkR, use setLogLevel(newLevel).\n"
     ]
    },
    {
     "name": "stdout",
     "output_type": "stream",
     "text": [
      "23/03/14 09:05:11 WARN NativeCodeLoader: Unable to load native-hadoop library for your platform... using builtin-java classes where applicable\n"
     ]
    }
   ],
   "source": [
    "from pyspark.sql import SparkSession\n",
    "spark_session = SparkSession.builder\\\n",
    "                .master(\"spark://192.168.2.5:7077\")\\\n",
    "                .appName(\"Sentiment Analysis\")\\\n",
    "                .config(\"spark.cores.max\", 8)\\\n",
    "                .getOrCreate()"
   ]
  },
  {
   "cell_type": "code",
   "execution_count": null,
   "id": "31181e7a",
   "metadata": {},
   "outputs": [
    {
     "name": "stderr",
     "output_type": "stream",
     "text": [
      "[Stage 1:==================================>                       (9 + 6) / 15]\r"
     ]
    }
   ],
   "source": [
    "from pyspark.sql.functions import udf\n",
    "from pyspark.sql.types import StringType\n",
    "from textblob import TextBlob\n",
    "import time\n",
    "\n",
    "# Define a user-defined function to perform sentiment analysis on a text\n",
    "\n",
    "# Start Timer\n",
    "tic = time.perf_counter()\n",
    "\n",
    "def get_sentiment(text):\n",
    "    blob = TextBlob(text)\n",
    "    sentiment = blob.sentiment.polarity\n",
    "    if sentiment > 0:\n",
    "        return 'positive'\n",
    "    elif sentiment < 0:\n",
    "        return 'negative'\n",
    "    else:\n",
    "        return 'neutral'\n",
    "\n",
    "path = \"hdfs://192.168.2.5:9000/user/ubuntu/RC_2010-03.json\"\n",
    "# Register the UDF with PySpark\n",
    "get_sentiment_udf = udf(get_sentiment, StringType())\n",
    "\n",
    "# Load the Reddit comments dataset into a PySpark DataFrame\n",
    "df = spark_session.read.json(path)\n",
    "\n",
    "# Add a new column to the DataFrame with the sentiment of each comment\n",
    "df = df.withColumn(\"sentiment\", get_sentiment_udf(\"body\"))\n",
    "\n",
    "# Group the comments by subreddit and sentiment, and count the number of comments\n",
    "result = df.groupBy(\"subreddit\", \"sentiment\").count()\n",
    "\n",
    "# Show the top 10 subreddits by number of positive comments\n",
    "result.filter(result.sentiment == \"positive\").orderBy(result[\"count\"].desc()).show(10)\n",
    "\n",
    "toc = time.perf_counter()\n",
    "\n",
    "print(f\"The application ran for: {toc-tic:0.4f} seconds\")\n",
    "\n",
    "spark_session.stop()\n",
    "\n"
   ]
  },
  {
   "cell_type": "code",
   "execution_count": 4,
   "id": "d35b289c",
   "metadata": {},
   "outputs": [],
   "source": [
    "spark_session.stop()"
   ]
  },
  {
   "cell_type": "code",
   "execution_count": null,
   "id": "30e56ad2",
   "metadata": {},
   "outputs": [],
   "source": [
    "# Testing"
   ]
  },
  {
   "cell_type": "code",
   "execution_count": null,
   "id": "d25054cb",
   "metadata": {},
   "outputs": [],
   "source": []
  }
 ],
 "metadata": {
  "kernelspec": {
   "display_name": "Python 3 (ipykernel)",
   "language": "python",
   "name": "python3"
  },
  "language_info": {
   "codemirror_mode": {
    "name": "ipython",
    "version": 3
   },
   "file_extension": ".py",
   "mimetype": "text/x-python",
   "name": "python",
   "nbconvert_exporter": "python",
   "pygments_lexer": "ipython3",
   "version": "3.10.6"
  }
 },
 "nbformat": 4,
 "nbformat_minor": 5
}
