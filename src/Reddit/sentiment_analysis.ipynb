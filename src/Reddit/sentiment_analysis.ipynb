{
 "cells": [
  {
   "cell_type": "code",
   "execution_count": 7,
   "id": "fd8faf92",
   "metadata": {
    "scrolled": true
   },
   "outputs": [],
   "source": [
    "from pyspark.sql import SparkSession\n",
    "spark_session = SparkSession.builder\\\n",
    "                .master(\"spark://192.168.2.5:7077\")\\\n",
    "                .appName(\"Sentiment Analysis\")\\\n",
    "                .config(\"spark.hadoop.fs.defaultFS\", \"hdfs://192.168.2.5:9000\") \\\n",
    "                .config(\"spark.hadoop.dfs.replication\", \"1\") \\\n",
    "                .config(\"spark.cores.max\", 2)\\\n",
    "                .getOrCreate()"
   ]
  },
  {
   "cell_type": "code",
   "execution_count": 8,
   "id": "31181e7a",
   "metadata": {},
   "outputs": [
    {
     "name": "stderr",
     "output_type": "stream",
     "text": [
      "                                                                                \r"
     ]
    },
    {
     "name": "stdout",
     "output_type": "stream",
     "text": [
      "+-----------+---------+------+\n",
      "|  subreddit|sentiment| count|\n",
      "+-----------+---------+------+\n",
      "|  AskReddit| positive|286525|\n",
      "| reddit.com| positive|115120|\n",
      "|       pics| positive| 87499|\n",
      "|   politics| positive| 83559|\n",
      "|     gaming| positive| 67410|\n",
      "|       IAmA| positive| 58545|\n",
      "|        WTF| positive| 44028|\n",
      "|    atheism| positive| 33609|\n",
      "|      funny| positive| 33493|\n",
      "|programming| positive| 33157|\n",
      "+-----------+---------+------+\n",
      "only showing top 10 rows\n",
      "\n"
     ]
    }
   ],
   "source": [
    "from pyspark.sql.functions import udf\n",
    "from pyspark.sql.types import StringType\n",
    "from textblob import TextBlob\n",
    "\n",
    "# Define a user-defined function to perform sentiment analysis on a text\n",
    "def get_sentiment(text):\n",
    "    blob = TextBlob(text)\n",
    "    sentiment = blob.sentiment.polarity\n",
    "    if sentiment > 0:\n",
    "        return 'positive'\n",
    "    elif sentiment < 0:\n",
    "        return 'negative'\n",
    "    else:\n",
    "        return 'neutral'\n",
    "\n",
    "path = \"hdfs://192.168.2.5:9000/user/ubuntu/RC_2010-03.json\"\n",
    "# Register the UDF with PySpark\n",
    "get_sentiment_udf = udf(get_sentiment, StringType())\n",
    "\n",
    "# Load the Reddit comments dataset into a PySpark DataFrame\n",
    "df = spark_session.read.json(path)\n",
    "\n",
    "# Add a new column to the DataFrame with the sentiment of each comment\n",
    "df = df.withColumn(\"sentiment\", get_sentiment_udf(\"body\"))\n",
    "\n",
    "# Group the comments by subreddit and sentiment, and count the number of comments\n",
    "result = df.groupBy(\"subreddit\", \"sentiment\").count()\n",
    "\n",
    "# Show the top 10 subreddits by number of positive comments\n",
    "result.filter(result.sentiment == \"positive\").orderBy(result[\"count\"].desc()).show(10)"
   ]
  },
  {
   "cell_type": "code",
   "execution_count": null,
   "id": "d35b289c",
   "metadata": {},
   "outputs": [],
   "source": [
    "spark_session.stop()"
   ]
  },
  {
   "cell_type": "code",
   "execution_count": null,
   "id": "30e56ad2",
   "metadata": {},
   "outputs": [],
   "source": []
  }
 ],
 "metadata": {
  "kernelspec": {
   "display_name": "Python 3 (ipykernel)",
   "language": "python",
   "name": "python3"
  },
  "language_info": {
   "codemirror_mode": {
    "name": "ipython",
    "version": 3
   },
   "file_extension": ".py",
   "mimetype": "text/x-python",
   "name": "python",
   "nbconvert_exporter": "python",
   "pygments_lexer": "ipython3",
   "version": "3.10.6"
  }
 },
 "nbformat": 4,
 "nbformat_minor": 5
}
